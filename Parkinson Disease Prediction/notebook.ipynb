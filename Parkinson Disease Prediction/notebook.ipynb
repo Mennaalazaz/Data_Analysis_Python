{
 "cells": [
  {
   "cell_type": "markdown",
   "id": "f7c88927",
   "metadata": {},
   "source": [
    "**Parkinson’s disease (PD):**\n",
    "it is a progressive neurodegenerative disorder that affects movement, causing symptoms like tremors, stiffness, and difficulty with balance and coordination. It mainly happens because dopamine-producing neurons in the brain die over time."
   ]
  },
  {
   "cell_type": "markdown",
   "id": "18044946",
   "metadata": {},
   "source": [
    "1. Importing Libraries and Dataset"
   ]
  },
  {
   "cell_type": "code",
   "execution_count": 1,
   "id": "1af43de3",
   "metadata": {},
   "outputs": [
    {
     "data": {
      "text/html": [
       "<div>\n",
       "<style scoped>\n",
       "    .dataframe tbody tr th:only-of-type {\n",
       "        vertical-align: middle;\n",
       "    }\n",
       "\n",
       "    .dataframe tbody tr th {\n",
       "        vertical-align: top;\n",
       "    }\n",
       "\n",
       "    .dataframe thead th {\n",
       "        text-align: right;\n",
       "    }\n",
       "</style>\n",
       "<table border=\"1\" class=\"dataframe\">\n",
       "  <thead>\n",
       "    <tr style=\"text-align: right;\">\n",
       "      <th></th>\n",
       "      <th>id</th>\n",
       "      <th>gender</th>\n",
       "      <th>PPE</th>\n",
       "      <th>DFA</th>\n",
       "      <th>RPDE</th>\n",
       "      <th>numPulses</th>\n",
       "      <th>numPeriodsPulses</th>\n",
       "      <th>meanPeriodPulses</th>\n",
       "      <th>stdDevPeriodPulses</th>\n",
       "      <th>locPctJitter</th>\n",
       "      <th>...</th>\n",
       "      <th>tqwt_kurtosisValue_dec_28</th>\n",
       "      <th>tqwt_kurtosisValue_dec_29</th>\n",
       "      <th>tqwt_kurtosisValue_dec_30</th>\n",
       "      <th>tqwt_kurtosisValue_dec_31</th>\n",
       "      <th>tqwt_kurtosisValue_dec_32</th>\n",
       "      <th>tqwt_kurtosisValue_dec_33</th>\n",
       "      <th>tqwt_kurtosisValue_dec_34</th>\n",
       "      <th>tqwt_kurtosisValue_dec_35</th>\n",
       "      <th>tqwt_kurtosisValue_dec_36</th>\n",
       "      <th>class</th>\n",
       "    </tr>\n",
       "  </thead>\n",
       "  <tbody>\n",
       "    <tr>\n",
       "      <th>0</th>\n",
       "      <td>0</td>\n",
       "      <td>1</td>\n",
       "      <td>0.85247</td>\n",
       "      <td>0.71826</td>\n",
       "      <td>0.57227</td>\n",
       "      <td>240</td>\n",
       "      <td>239</td>\n",
       "      <td>0.008064</td>\n",
       "      <td>0.000087</td>\n",
       "      <td>0.00218</td>\n",
       "      <td>...</td>\n",
       "      <td>1.5620</td>\n",
       "      <td>2.6445</td>\n",
       "      <td>3.8686</td>\n",
       "      <td>4.2105</td>\n",
       "      <td>5.1221</td>\n",
       "      <td>4.4625</td>\n",
       "      <td>2.6202</td>\n",
       "      <td>3.0004</td>\n",
       "      <td>18.9405</td>\n",
       "      <td>1</td>\n",
       "    </tr>\n",
       "    <tr>\n",
       "      <th>1</th>\n",
       "      <td>0</td>\n",
       "      <td>1</td>\n",
       "      <td>0.76686</td>\n",
       "      <td>0.69481</td>\n",
       "      <td>0.53966</td>\n",
       "      <td>234</td>\n",
       "      <td>233</td>\n",
       "      <td>0.008258</td>\n",
       "      <td>0.000073</td>\n",
       "      <td>0.00195</td>\n",
       "      <td>...</td>\n",
       "      <td>1.5589</td>\n",
       "      <td>3.6107</td>\n",
       "      <td>23.5155</td>\n",
       "      <td>14.1962</td>\n",
       "      <td>11.0261</td>\n",
       "      <td>9.5082</td>\n",
       "      <td>6.5245</td>\n",
       "      <td>6.3431</td>\n",
       "      <td>45.1780</td>\n",
       "      <td>1</td>\n",
       "    </tr>\n",
       "    <tr>\n",
       "      <th>2</th>\n",
       "      <td>0</td>\n",
       "      <td>1</td>\n",
       "      <td>0.85083</td>\n",
       "      <td>0.67604</td>\n",
       "      <td>0.58982</td>\n",
       "      <td>232</td>\n",
       "      <td>231</td>\n",
       "      <td>0.008340</td>\n",
       "      <td>0.000060</td>\n",
       "      <td>0.00176</td>\n",
       "      <td>...</td>\n",
       "      <td>1.5643</td>\n",
       "      <td>2.3308</td>\n",
       "      <td>9.4959</td>\n",
       "      <td>10.7458</td>\n",
       "      <td>11.0177</td>\n",
       "      <td>4.8066</td>\n",
       "      <td>2.9199</td>\n",
       "      <td>3.1495</td>\n",
       "      <td>4.7666</td>\n",
       "      <td>1</td>\n",
       "    </tr>\n",
       "    <tr>\n",
       "      <th>3</th>\n",
       "      <td>1</td>\n",
       "      <td>0</td>\n",
       "      <td>0.41121</td>\n",
       "      <td>0.79672</td>\n",
       "      <td>0.59257</td>\n",
       "      <td>178</td>\n",
       "      <td>177</td>\n",
       "      <td>0.010858</td>\n",
       "      <td>0.000183</td>\n",
       "      <td>0.00419</td>\n",
       "      <td>...</td>\n",
       "      <td>3.7805</td>\n",
       "      <td>3.5664</td>\n",
       "      <td>5.2558</td>\n",
       "      <td>14.0403</td>\n",
       "      <td>4.2235</td>\n",
       "      <td>4.6857</td>\n",
       "      <td>4.8460</td>\n",
       "      <td>6.2650</td>\n",
       "      <td>4.0603</td>\n",
       "      <td>1</td>\n",
       "    </tr>\n",
       "    <tr>\n",
       "      <th>4</th>\n",
       "      <td>1</td>\n",
       "      <td>0</td>\n",
       "      <td>0.32790</td>\n",
       "      <td>0.79782</td>\n",
       "      <td>0.53028</td>\n",
       "      <td>236</td>\n",
       "      <td>235</td>\n",
       "      <td>0.008162</td>\n",
       "      <td>0.002669</td>\n",
       "      <td>0.00535</td>\n",
       "      <td>...</td>\n",
       "      <td>6.1727</td>\n",
       "      <td>5.8416</td>\n",
       "      <td>6.0805</td>\n",
       "      <td>5.7621</td>\n",
       "      <td>7.7817</td>\n",
       "      <td>11.6891</td>\n",
       "      <td>8.2103</td>\n",
       "      <td>5.0559</td>\n",
       "      <td>6.1164</td>\n",
       "      <td>1</td>\n",
       "    </tr>\n",
       "  </tbody>\n",
       "</table>\n",
       "<p>5 rows × 755 columns</p>\n",
       "</div>"
      ],
      "text/plain": [
       "   id  gender      PPE      DFA     RPDE  numPulses  numPeriodsPulses  \\\n",
       "0   0       1  0.85247  0.71826  0.57227        240               239   \n",
       "1   0       1  0.76686  0.69481  0.53966        234               233   \n",
       "2   0       1  0.85083  0.67604  0.58982        232               231   \n",
       "3   1       0  0.41121  0.79672  0.59257        178               177   \n",
       "4   1       0  0.32790  0.79782  0.53028        236               235   \n",
       "\n",
       "   meanPeriodPulses  stdDevPeriodPulses  locPctJitter  ...  \\\n",
       "0          0.008064            0.000087       0.00218  ...   \n",
       "1          0.008258            0.000073       0.00195  ...   \n",
       "2          0.008340            0.000060       0.00176  ...   \n",
       "3          0.010858            0.000183       0.00419  ...   \n",
       "4          0.008162            0.002669       0.00535  ...   \n",
       "\n",
       "   tqwt_kurtosisValue_dec_28  tqwt_kurtosisValue_dec_29  \\\n",
       "0                     1.5620                     2.6445   \n",
       "1                     1.5589                     3.6107   \n",
       "2                     1.5643                     2.3308   \n",
       "3                     3.7805                     3.5664   \n",
       "4                     6.1727                     5.8416   \n",
       "\n",
       "   tqwt_kurtosisValue_dec_30  tqwt_kurtosisValue_dec_31  \\\n",
       "0                     3.8686                     4.2105   \n",
       "1                    23.5155                    14.1962   \n",
       "2                     9.4959                    10.7458   \n",
       "3                     5.2558                    14.0403   \n",
       "4                     6.0805                     5.7621   \n",
       "\n",
       "   tqwt_kurtosisValue_dec_32  tqwt_kurtosisValue_dec_33  \\\n",
       "0                     5.1221                     4.4625   \n",
       "1                    11.0261                     9.5082   \n",
       "2                    11.0177                     4.8066   \n",
       "3                     4.2235                     4.6857   \n",
       "4                     7.7817                    11.6891   \n",
       "\n",
       "   tqwt_kurtosisValue_dec_34  tqwt_kurtosisValue_dec_35  \\\n",
       "0                     2.6202                     3.0004   \n",
       "1                     6.5245                     6.3431   \n",
       "2                     2.9199                     3.1495   \n",
       "3                     4.8460                     6.2650   \n",
       "4                     8.2103                     5.0559   \n",
       "\n",
       "   tqwt_kurtosisValue_dec_36  class  \n",
       "0                    18.9405      1  \n",
       "1                    45.1780      1  \n",
       "2                     4.7666      1  \n",
       "3                     4.0603      1  \n",
       "4                     6.1164      1  \n",
       "\n",
       "[5 rows x 755 columns]"
      ]
     },
     "execution_count": 1,
     "metadata": {},
     "output_type": "execute_result"
    }
   ],
   "source": [
    "import pandas as pd\n",
    "import numpy as np\n",
    "import matplotlib.pyplot as plt\n",
    "import seaborn as sns\n",
    "from sklearn.preprocessing import MinMaxScaler\n",
    "from sklearn.feature_selection import SelectKBest, chi2\n",
    "from sklearn.model_selection import train_test_split\n",
    "from imblearn.over_sampling import RandomOverSampler\n",
    "from sklearn.metrics import roc_auc_score as ras\n",
    "from sklearn.svm import SVC\n",
    "from xgboost import XGBClassifier\n",
    "from sklearn.linear_model import LogisticRegression\n",
    "from sklearn.metrics import confusion_matrix, classification_report, ConfusionMatrixDisplay, accuracy_score\n",
    "from sklearn.ensemble import RandomForestClassifier\n",
    "\n",
    "import warnings\n",
    "warnings.filterwarnings('ignore')\n",
    "\n",
    "df= pd.read_csv('parkinson_disease.csv')\n",
    "df.head()"
   ]
  },
  {
   "cell_type": "markdown",
   "id": "04d989f6",
   "metadata": {},
   "source": [
    "The dataset we are going to use here includes 755 columns (*755 features which is too large !!!*) and three observations for each patient."
   ]
  },
  {
   "cell_type": "markdown",
   "id": "fbb65f3b",
   "metadata": {},
   "source": [
    "2. Data Exploration and Cleaning"
   ]
  },
  {
   "cell_type": "code",
   "execution_count": 2,
   "id": "9a3f10b1",
   "metadata": {},
   "outputs": [
    {
     "name": "stdout",
     "output_type": "stream",
     "text": [
      "<class 'pandas.core.frame.DataFrame'>\n",
      "RangeIndex: 756 entries, 0 to 755\n",
      "Columns: 755 entries, id to class\n",
      "dtypes: float64(749), int64(6)\n",
      "memory usage: 4.4 MB\n"
     ]
    }
   ],
   "source": [
    "# Displays the total number of rows and columns, the data types of each column and the count of non-null values. \n",
    "# This helps identify missing data and column types.\n",
    "df.info() "
   ]
  },
  {
   "cell_type": "code",
   "execution_count": 3,
   "id": "4ad3d166",
   "metadata": {},
   "outputs": [
    {
     "data": {
      "text/html": [
       "<div>\n",
       "<style scoped>\n",
       "    .dataframe tbody tr th:only-of-type {\n",
       "        vertical-align: middle;\n",
       "    }\n",
       "\n",
       "    .dataframe tbody tr th {\n",
       "        vertical-align: top;\n",
       "    }\n",
       "\n",
       "    .dataframe thead th {\n",
       "        text-align: right;\n",
       "    }\n",
       "</style>\n",
       "<table border=\"1\" class=\"dataframe\">\n",
       "  <thead>\n",
       "    <tr style=\"text-align: right;\">\n",
       "      <th></th>\n",
       "      <th>id</th>\n",
       "      <th>gender</th>\n",
       "      <th>PPE</th>\n",
       "      <th>DFA</th>\n",
       "      <th>RPDE</th>\n",
       "      <th>numPulses</th>\n",
       "      <th>numPeriodsPulses</th>\n",
       "      <th>meanPeriodPulses</th>\n",
       "      <th>stdDevPeriodPulses</th>\n",
       "      <th>locPctJitter</th>\n",
       "      <th>...</th>\n",
       "      <th>tqwt_kurtosisValue_dec_28</th>\n",
       "      <th>tqwt_kurtosisValue_dec_29</th>\n",
       "      <th>tqwt_kurtosisValue_dec_30</th>\n",
       "      <th>tqwt_kurtosisValue_dec_31</th>\n",
       "      <th>tqwt_kurtosisValue_dec_32</th>\n",
       "      <th>tqwt_kurtosisValue_dec_33</th>\n",
       "      <th>tqwt_kurtosisValue_dec_34</th>\n",
       "      <th>tqwt_kurtosisValue_dec_35</th>\n",
       "      <th>tqwt_kurtosisValue_dec_36</th>\n",
       "      <th>class</th>\n",
       "    </tr>\n",
       "  </thead>\n",
       "  <tbody>\n",
       "    <tr>\n",
       "      <th>count</th>\n",
       "      <td>756.000000</td>\n",
       "      <td>756.000000</td>\n",
       "      <td>756.000000</td>\n",
       "      <td>756.000000</td>\n",
       "      <td>756.000000</td>\n",
       "      <td>756.000000</td>\n",
       "      <td>756.000000</td>\n",
       "      <td>756.000000</td>\n",
       "      <td>756.000000</td>\n",
       "      <td>756.000000</td>\n",
       "      <td>...</td>\n",
       "      <td>756.000000</td>\n",
       "      <td>756.000000</td>\n",
       "      <td>756.000000</td>\n",
       "      <td>756.000000</td>\n",
       "      <td>756.000000</td>\n",
       "      <td>756.000000</td>\n",
       "      <td>756.000000</td>\n",
       "      <td>756.000000</td>\n",
       "      <td>756.000000</td>\n",
       "      <td>756.000000</td>\n",
       "    </tr>\n",
       "    <tr>\n",
       "      <th>mean</th>\n",
       "      <td>125.500000</td>\n",
       "      <td>0.515873</td>\n",
       "      <td>0.746284</td>\n",
       "      <td>0.700414</td>\n",
       "      <td>0.489058</td>\n",
       "      <td>323.972222</td>\n",
       "      <td>322.678571</td>\n",
       "      <td>0.006360</td>\n",
       "      <td>0.000383</td>\n",
       "      <td>0.002324</td>\n",
       "      <td>...</td>\n",
       "      <td>26.237251</td>\n",
       "      <td>22.840337</td>\n",
       "      <td>18.587888</td>\n",
       "      <td>13.872018</td>\n",
       "      <td>12.218953</td>\n",
       "      <td>12.375335</td>\n",
       "      <td>14.799230</td>\n",
       "      <td>14.751559</td>\n",
       "      <td>31.481110</td>\n",
       "      <td>0.746032</td>\n",
       "    </tr>\n",
       "    <tr>\n",
       "      <th>std</th>\n",
       "      <td>72.793721</td>\n",
       "      <td>0.500079</td>\n",
       "      <td>0.169294</td>\n",
       "      <td>0.069718</td>\n",
       "      <td>0.137442</td>\n",
       "      <td>99.219059</td>\n",
       "      <td>99.402499</td>\n",
       "      <td>0.001826</td>\n",
       "      <td>0.000728</td>\n",
       "      <td>0.002628</td>\n",
       "      <td>...</td>\n",
       "      <td>42.220693</td>\n",
       "      <td>32.626464</td>\n",
       "      <td>25.537464</td>\n",
       "      <td>20.046029</td>\n",
       "      <td>17.783642</td>\n",
       "      <td>16.341665</td>\n",
       "      <td>15.722502</td>\n",
       "      <td>14.432979</td>\n",
       "      <td>34.230991</td>\n",
       "      <td>0.435568</td>\n",
       "    </tr>\n",
       "    <tr>\n",
       "      <th>min</th>\n",
       "      <td>0.000000</td>\n",
       "      <td>0.000000</td>\n",
       "      <td>0.041551</td>\n",
       "      <td>0.543500</td>\n",
       "      <td>0.154300</td>\n",
       "      <td>2.000000</td>\n",
       "      <td>1.000000</td>\n",
       "      <td>0.002107</td>\n",
       "      <td>0.000011</td>\n",
       "      <td>0.000210</td>\n",
       "      <td>...</td>\n",
       "      <td>1.509800</td>\n",
       "      <td>1.531700</td>\n",
       "      <td>1.582900</td>\n",
       "      <td>1.747200</td>\n",
       "      <td>1.789500</td>\n",
       "      <td>1.628700</td>\n",
       "      <td>1.861700</td>\n",
       "      <td>1.955900</td>\n",
       "      <td>2.364000</td>\n",
       "      <td>0.000000</td>\n",
       "    </tr>\n",
       "    <tr>\n",
       "      <th>25%</th>\n",
       "      <td>62.750000</td>\n",
       "      <td>0.000000</td>\n",
       "      <td>0.762833</td>\n",
       "      <td>0.647053</td>\n",
       "      <td>0.386537</td>\n",
       "      <td>251.000000</td>\n",
       "      <td>250.000000</td>\n",
       "      <td>0.005003</td>\n",
       "      <td>0.000049</td>\n",
       "      <td>0.000970</td>\n",
       "      <td>...</td>\n",
       "      <td>2.408675</td>\n",
       "      <td>3.452800</td>\n",
       "      <td>3.354825</td>\n",
       "      <td>3.077450</td>\n",
       "      <td>2.937025</td>\n",
       "      <td>3.114375</td>\n",
       "      <td>3.665925</td>\n",
       "      <td>3.741275</td>\n",
       "      <td>3.948750</td>\n",
       "      <td>0.000000</td>\n",
       "    </tr>\n",
       "    <tr>\n",
       "      <th>50%</th>\n",
       "      <td>125.500000</td>\n",
       "      <td>1.000000</td>\n",
       "      <td>0.809655</td>\n",
       "      <td>0.700525</td>\n",
       "      <td>0.484355</td>\n",
       "      <td>317.000000</td>\n",
       "      <td>316.000000</td>\n",
       "      <td>0.006048</td>\n",
       "      <td>0.000077</td>\n",
       "      <td>0.001495</td>\n",
       "      <td>...</td>\n",
       "      <td>5.586300</td>\n",
       "      <td>7.062750</td>\n",
       "      <td>6.077400</td>\n",
       "      <td>4.770850</td>\n",
       "      <td>4.300450</td>\n",
       "      <td>4.741450</td>\n",
       "      <td>6.725700</td>\n",
       "      <td>7.334250</td>\n",
       "      <td>10.637250</td>\n",
       "      <td>1.000000</td>\n",
       "    </tr>\n",
       "    <tr>\n",
       "      <th>75%</th>\n",
       "      <td>188.250000</td>\n",
       "      <td>1.000000</td>\n",
       "      <td>0.834315</td>\n",
       "      <td>0.754985</td>\n",
       "      <td>0.586515</td>\n",
       "      <td>384.250000</td>\n",
       "      <td>383.250000</td>\n",
       "      <td>0.007528</td>\n",
       "      <td>0.000171</td>\n",
       "      <td>0.002520</td>\n",
       "      <td>...</td>\n",
       "      <td>28.958075</td>\n",
       "      <td>29.830850</td>\n",
       "      <td>21.944050</td>\n",
       "      <td>13.188000</td>\n",
       "      <td>10.876150</td>\n",
       "      <td>12.201325</td>\n",
       "      <td>21.922050</td>\n",
       "      <td>22.495175</td>\n",
       "      <td>61.125325</td>\n",
       "      <td>1.000000</td>\n",
       "    </tr>\n",
       "    <tr>\n",
       "      <th>max</th>\n",
       "      <td>251.000000</td>\n",
       "      <td>1.000000</td>\n",
       "      <td>0.907660</td>\n",
       "      <td>0.852640</td>\n",
       "      <td>0.871230</td>\n",
       "      <td>907.000000</td>\n",
       "      <td>905.000000</td>\n",
       "      <td>0.012966</td>\n",
       "      <td>0.003483</td>\n",
       "      <td>0.027750</td>\n",
       "      <td>...</td>\n",
       "      <td>239.788800</td>\n",
       "      <td>203.311300</td>\n",
       "      <td>121.542900</td>\n",
       "      <td>102.207000</td>\n",
       "      <td>85.571700</td>\n",
       "      <td>73.532200</td>\n",
       "      <td>62.007300</td>\n",
       "      <td>57.544300</td>\n",
       "      <td>156.423700</td>\n",
       "      <td>1.000000</td>\n",
       "    </tr>\n",
       "  </tbody>\n",
       "</table>\n",
       "<p>8 rows × 755 columns</p>\n",
       "</div>"
      ],
      "text/plain": [
       "               id      gender         PPE         DFA        RPDE   numPulses  \\\n",
       "count  756.000000  756.000000  756.000000  756.000000  756.000000  756.000000   \n",
       "mean   125.500000    0.515873    0.746284    0.700414    0.489058  323.972222   \n",
       "std     72.793721    0.500079    0.169294    0.069718    0.137442   99.219059   \n",
       "min      0.000000    0.000000    0.041551    0.543500    0.154300    2.000000   \n",
       "25%     62.750000    0.000000    0.762833    0.647053    0.386537  251.000000   \n",
       "50%    125.500000    1.000000    0.809655    0.700525    0.484355  317.000000   \n",
       "75%    188.250000    1.000000    0.834315    0.754985    0.586515  384.250000   \n",
       "max    251.000000    1.000000    0.907660    0.852640    0.871230  907.000000   \n",
       "\n",
       "       numPeriodsPulses  meanPeriodPulses  stdDevPeriodPulses  locPctJitter  \\\n",
       "count        756.000000        756.000000          756.000000    756.000000   \n",
       "mean         322.678571          0.006360            0.000383      0.002324   \n",
       "std           99.402499          0.001826            0.000728      0.002628   \n",
       "min            1.000000          0.002107            0.000011      0.000210   \n",
       "25%          250.000000          0.005003            0.000049      0.000970   \n",
       "50%          316.000000          0.006048            0.000077      0.001495   \n",
       "75%          383.250000          0.007528            0.000171      0.002520   \n",
       "max          905.000000          0.012966            0.003483      0.027750   \n",
       "\n",
       "       ...  tqwt_kurtosisValue_dec_28  tqwt_kurtosisValue_dec_29  \\\n",
       "count  ...                 756.000000                 756.000000   \n",
       "mean   ...                  26.237251                  22.840337   \n",
       "std    ...                  42.220693                  32.626464   \n",
       "min    ...                   1.509800                   1.531700   \n",
       "25%    ...                   2.408675                   3.452800   \n",
       "50%    ...                   5.586300                   7.062750   \n",
       "75%    ...                  28.958075                  29.830850   \n",
       "max    ...                 239.788800                 203.311300   \n",
       "\n",
       "       tqwt_kurtosisValue_dec_30  tqwt_kurtosisValue_dec_31  \\\n",
       "count                 756.000000                 756.000000   \n",
       "mean                   18.587888                  13.872018   \n",
       "std                    25.537464                  20.046029   \n",
       "min                     1.582900                   1.747200   \n",
       "25%                     3.354825                   3.077450   \n",
       "50%                     6.077400                   4.770850   \n",
       "75%                    21.944050                  13.188000   \n",
       "max                   121.542900                 102.207000   \n",
       "\n",
       "       tqwt_kurtosisValue_dec_32  tqwt_kurtosisValue_dec_33  \\\n",
       "count                 756.000000                 756.000000   \n",
       "mean                   12.218953                  12.375335   \n",
       "std                    17.783642                  16.341665   \n",
       "min                     1.789500                   1.628700   \n",
       "25%                     2.937025                   3.114375   \n",
       "50%                     4.300450                   4.741450   \n",
       "75%                    10.876150                  12.201325   \n",
       "max                    85.571700                  73.532200   \n",
       "\n",
       "       tqwt_kurtosisValue_dec_34  tqwt_kurtosisValue_dec_35  \\\n",
       "count                 756.000000                 756.000000   \n",
       "mean                   14.799230                  14.751559   \n",
       "std                    15.722502                  14.432979   \n",
       "min                     1.861700                   1.955900   \n",
       "25%                     3.665925                   3.741275   \n",
       "50%                     6.725700                   7.334250   \n",
       "75%                    21.922050                  22.495175   \n",
       "max                    62.007300                  57.544300   \n",
       "\n",
       "       tqwt_kurtosisValue_dec_36       class  \n",
       "count                 756.000000  756.000000  \n",
       "mean                   31.481110    0.746032  \n",
       "std                    34.230991    0.435568  \n",
       "min                     2.364000    0.000000  \n",
       "25%                     3.948750    0.000000  \n",
       "50%                    10.637250    1.000000  \n",
       "75%                    61.125325    1.000000  \n",
       "max                   156.423700    1.000000  \n",
       "\n",
       "[8 rows x 755 columns]"
      ]
     },
     "execution_count": 3,
     "metadata": {},
     "output_type": "execute_result"
    }
   ],
   "source": [
    "df.describe()  # seems like there are no missing values in the dataset"
   ]
  },
  {
   "cell_type": "code",
   "execution_count": 4,
   "id": "53fe8694",
   "metadata": {},
   "outputs": [
    {
     "data": {
      "text/plain": [
       "id                           0\n",
       "gender                       0\n",
       "PPE                          0\n",
       "DFA                          0\n",
       "RPDE                         0\n",
       "                            ..\n",
       "tqwt_kurtosisValue_dec_33    0\n",
       "tqwt_kurtosisValue_dec_34    0\n",
       "tqwt_kurtosisValue_dec_35    0\n",
       "tqwt_kurtosisValue_dec_36    0\n",
       "class                        0\n",
       "Length: 755, dtype: int64"
      ]
     },
     "execution_count": 4,
     "metadata": {},
     "output_type": "execute_result"
    }
   ],
   "source": [
    "df.isna().sum()  # check for missing values in each column"
   ]
  },
  {
   "cell_type": "markdown",
   "id": "311b7fce",
   "metadata": {},
   "source": [
    "Therefore from the above analysis we concluded that our dataset contains no null/missing values and how the data is distributed in the given columns. Since there are no null/missing values there is no need for data cleaning."
   ]
  },
  {
   "cell_type": "markdown",
   "id": "89772765",
   "metadata": {},
   "source": [
    "3.  Data Wrangling\n",
    "\n",
    "involves restructuring and transforming the dataset to make it suitable for analysis. Since our dataset contains three observations for each patient we need to aggregate them to create a single representative record per patient."
   ]
  },
  {
   "cell_type": "code",
   "execution_count": 5,
   "id": "a9769d38",
   "metadata": {},
   "outputs": [],
   "source": [
    "# Groups the dataset by the \"id\" column and calculates the mean of numerical features.\n",
    "df.groupby('id').mean().reset_index()  \n",
    "df.drop(columns=['id'], inplace=True)  # drop the 'id' column as it's no longer needed"
   ]
  },
  {
   "cell_type": "markdown",
   "id": "438917a0",
   "metadata": {},
   "source": [
    "**Multicollinearity** happens when two or more predictor(independent) variables in a model are closely related to each other. Because they give similar information, it becomes difficult to know how each one affects the result , To handle this we identify and remove highly correlated features from our dataset.\n",
    "\n",
    "*Ways to detect :*\n",
    "1. correlation matrix\n",
    "2. Pairwise Scatter Plots \n",
    "3. Using Feature Importance from Random Forest\n",
    "\n",
    "\n",
    "\n",
    "*Ways to handle :*\n",
    "1. **Remove Redundant Variables:** If two or more predictor variables are highly correlated, one of them can be dropped. This helps in reducing redundancy and makes the model more stable. For example if \"height\" and \"weight\" are highly correlated we might drop one to prevent multicollinearity.\n",
    "2. **Combine Variables:** When variables are strongly related they can be combined into a single feature. This approach can reduce multicollinearity and simplify the model. For example instead of keeping \"total income from salary\" and \"total income from business\" we can combine them into \"total income\".\n",
    "3. **Regularization Techniques:** Methods like **Ridge or Lasso** regression can be used to reduce multicollinearity by penalizing the coefficients of correlated predictors. These methods shrink the coefficients helps in reducing their impact and improving model stability. *Ridge tends to shrink coefficients evenly while Lasso can set some coefficients to zero.*\n",
    "4. **Collect More Data:** Increasing the size of the dataset can sometimes reduce multicollinearity as it helps in stabilizing the relationships between variables. With more data points the patterns between predictors and the target become clearer which reduces the chance of overfitting and multicollinearity.\n",
    "5. **Principal Component Analysis (PCA):** PCA is a dimensionality reduction technique that can be used to transform the correlated predictor variables into a smaller set of uncorrelated variables. By using PCA we can remove multicollinearity while preserving the important information from the original variables."
   ]
  },
  {
   "cell_type": "code",
   "execution_count": 6,
   "id": "bb3ab5f5",
   "metadata": {},
   "outputs": [
    {
     "name": "stdout",
     "output_type": "stream",
     "text": [
      "Dropped: {'det_LT_TKEO_mean_5_coef', 'tqwt_maxValue_dec_16', 'app_TKEO_std_10_coef', 'tqwt_minValue_dec_23', 'det_LT_TKEO_std_8_coef', 'tqwt_minValue_dec_7', 'det_entropy_log_8_coef', 'tqwt_maxValue_dec_5', 'tqwt_TKEO_std_dec_33', 'tqwt_maxValue_dec_13', 'tqwt_kurtosisValue_dec_35', 'det_LT_TKEO_std_6_coef', 'tqwt_stdValue_dec_29', 'std_7th_delta_delta', 'tqwt_entropy_shannon_dec_16', 'tqwt_stdValue_dec_14', 'tqwt_minValue_dec_27', 'tqwt_TKEO_std_dec_3', 'std_10th_delta_delta', 'app_det_TKEO_mean_1_coef', 'det_TKEO_mean_5_coef', 'tqwt_skewnessValue_dec_28', 'tqwt_stdValue_dec_24', 'apq3Shimmer', 'det_TKEO_std_3_coef', 'tqwt_minValue_dec_15', 'tqwt_entropy_shannon_dec_19', 'app_LT_TKEO_std_9_coef', 'det_LT_TKEO_mean_8_coef', 'meanAutoCorrHarmonicity', 'tqwt_TKEO_std_dec_4', 'tqwt_maxValue_dec_6', 'app_LT_entropy_shannon_4_coef', 'Ed_6_coef', 'det_LT_entropy_shannon_5_coef', 'tqwt_maxValue_dec_23', 'tqwt_minValue_dec_35', 'tqwt_minValue_dec_11', 'tqwt_minValue_dec_19', 'GNE_std', 'tqwt_stdValue_dec_11', 'app_entropy_log_1_coef', 'det_LT_entropy_shannon_7_coef', 'std_MFCC_0th_coef', 'det_LT_entropy_log_10_coef', 'app_entropy_shannon_2_coef', 'tqwt_kurtosisValue_dec_11', 'tqwt_stdValue_dec_30', 'det_LT_TKEO_mean_2_coef', 'tqwt_stdValue_dec_31', 'Ed_7_coef', 'app_TKEO_std_6_coef', 'det_LT_TKEO_mean_10_coef', 'tqwt_entropy_log_dec_36', 'tqwt_entropy_log_dec_15', 'tqwt_stdValue_dec_34', 'tqwt_TKEO_mean_dec_16', 'tqwt_TKEO_mean_dec_4', 'tqwt_kurtosisValue_dec_19', 'tqwt_TKEO_std_dec_28', 'tqwt_TKEO_mean_dec_9', 'app_LT_entropy_shannon_5_coef', 'tqwt_skewnessValue_dec_10', 'tqwt_stdValue_dec_32', 'det_TKEO_mean_3_coef', 'tqwt_kurtosisValue_dec_15', 'det_LT_TKEO_mean_1_coef', 'app_LT_TKEO_std_6_coef', 'app_TKEO_std_1_coef', 'tqwt_entropy_log_dec_11', 'tqwt_energy_dec_30', 'Ed2_7_coef', 'tqwt_TKEO_std_dec_15', 'tqwt_maxValue_dec_17', 'app_entropy_shannon_3_coef', 'tqwt_TKEO_std_dec_2', 'tqwt_TKEO_std_dec_32', 'det_entropy_log_5_coef', 'tqwt_entropy_log_dec_20', 'tqwt_TKEO_mean_dec_36', 'tqwt_entropy_log_dec_13', 'det_TKEO_std_1_coef', 'tqwt_skewnessValue_dec_5', 'tqwt_energy_dec_2', 'tqwt_stdValue_dec_15', 'app_entropy_shannon_1_coef', 'tqwt_minValue_dec_3', 'tqwt_kurtosisValue_dec_29', 'tqwt_entropy_shannon_dec_6', 'std_9th_delta_delta', 'app_LT_TKEO_mean_5_coef', 'det_LT_TKEO_std_5_coef', 'tqwt_TKEO_mean_dec_12', 'tqwt_maxValue_dec_18', 'tqwt_entropy_shannon_dec_14', 'tqwt_TKEO_std_dec_19', 'det_LT_TKEO_std_3_coef', 'tqwt_energy_dec_3', 'tqwt_TKEO_mean_dec_19', 'tqwt_entropy_shannon_dec_27', 'maxIntensity', 'app_LT_entropy_log_7_coef', 'app_entropy_log_9_coef', 'rapJitter', 'app_entropy_log_6_coef', 'tqwt_TKEO_mean_dec_27', 'tqwt_maxValue_dec_10', 'tqwt_TKEO_mean_dec_15', 'tqwt_maxValue_dec_19', 'tqwt_stdValue_dec_5', 'app_entropy_log_2_coef', 'tqwt_entropy_log_dec_30', 'app_TKEO_std_2_coef', 'tqwt_entropy_shannon_dec_7', 'tqwt_TKEO_mean_dec_31', 'Ed2_8_coef', 'tqwt_kurtosisValue_dec_33', 'app_det_TKEO_mean_6_coef', 'tqwt_maxValue_dec_36', 'tqwt_energy_dec_13', 'tqwt_maxValue_dec_2', 'det_LT_entropy_log_5_coef', 'app_det_TKEO_mean_8_coef', 'tqwt_TKEO_std_dec_14', 'tqwt_entropy_log_dec_35', 'tqwt_TKEO_mean_dec_30', 'app_entropy_shannon_5_coef', 'app_LT_TKEO_std_2_coef', 'app_LT_entropy_shannon_8_coef', 'det_entropy_log_10_coef', 'tqwt_stdValue_dec_35', 'tqwt_stdValue_dec_8', 'app_TKEO_std_5_coef', 'app_LT_entropy_shannon_10_coef', 'app_entropy_log_7_coef', 'tqwt_kurtosisValue_dec_6', 'tqwt_kurtosisValue_dec_18', 'tqwt_TKEO_std_dec_12', 'std_2nd_delta_delta', 'tqwt_TKEO_mean_dec_7', 'tqwt_maxValue_dec_32', 'tqwt_TKEO_std_dec_20', 'app_det_TKEO_mean_10_coef', 'std_5th_delta_delta', 'tqwt_maxValue_dec_24', 'tqwt_kurtosisValue_dec_27', 'app_LT_TKEO_mean_7_coef', 'mean_0th_delta', 'app_det_TKEO_mean_5_coef', 'tqwt_TKEO_mean_dec_2', 'tqwt_kurtosisValue_dec_9', 'Ed2_9_coef', 'Ed_9_coef', 'Ed_5_coef', 'Ed2_4_coef', 'app_LT_TKEO_mean_6_coef', 'app_entropy_shannon_7_coef', 'std_2nd_delta', 'app_LT_TKEO_mean_9_coef', 'tqwt_maxValue_dec_31', 'tqwt_maxValue_dec_20', 'det_LT_entropy_log_7_coef', 'det_LT_TKEO_std_1_coef', 'det_LT_entropy_shannon_8_coef', 'tqwt_entropy_log_dec_33', 'tqwt_stdValue_dec_28', 'tqwt_energy_dec_34', 'tqwt_entropy_log_dec_17', 'app_TKEO_std_9_coef', 'std_0th_delta', 'app_det_TKEO_mean_3_coef', 'std_delta_log_energy', 'det_TKEO_std_6_coef', 'std_4th_delta_delta', 'tqwt_entropy_shannon_dec_34', 'app_entropy_shannon_4_coef', 'app_LT_TKEO_mean_10_coef', 'meanHarmToNoiseHarmonicity', 'tqwt_minValue_dec_33', 'app_TKEO_std_4_coef', 'tqwt_skewnessValue_dec_2', 'tqwt_TKEO_mean_dec_14', 'tqwt_stdValue_dec_26', 'det_entropy_shannon_2_coef', 'app_LT_TKEO_std_1_coef', 'Ed_10_coef', 'tqwt_minValue_dec_18', 'tqwt_TKEO_mean_dec_26', 'tqwt_minValue_dec_24', 'tqwt_minValue_dec_21', 'det_TKEO_std_10_coef', 'tqwt_entropy_log_dec_32', 'tqwt_entropy_log_dec_10', 'tqwt_TKEO_std_dec_9', 'tqwt_maxValue_dec_22', 'tqwt_TKEO_mean_dec_5', 'det_TKEO_mean_2_coef', 'std_12th_delta', 'app_LT_entropy_shannon_3_coef', 'tqwt_stdValue_dec_6', 'tqwt_minValue_dec_29', 'IMF_SNR_entropy', 'tqwt_minValue_dec_31', 'tqwt_minValue_dec_12', 'det_LT_entropy_shannon_10_coef', 'det_entropy_shannon_9_coef', 'Ea2', 'Ed2_3_coef', 'tqwt_TKEO_mean_dec_8', 'tqwt_minValue_dec_17', 'tqwt_TKEO_mean_dec_28', 'tqwt_TKEO_std_dec_34', 'app_LT_entropy_log_10_coef', 'tqwt_maxValue_dec_21', 'tqwt_TKEO_std_dec_6', 'IMF_NSR_entropy', 'ddpJitter', 'tqwt_maxValue_dec_3', 'tqwt_entropy_shannon_dec_13', 'app_LT_TKEO_mean_3_coef', 'app_LT_TKEO_std_7_coef', 'app_entropy_log_10_coef', 'std_MFCC_7th_coef', 'app_entropy_shannon_6_coef', 'det_LT_entropy_log_2_coef', 'tqwt_TKEO_std_dec_5', 'det_LT_TKEO_mean_9_coef', 'tqwt_maxValue_dec_30', 'tqwt_skewnessValue_dec_33', 'tqwt_TKEO_std_dec_1', 'tqwt_minValue_dec_22', 'tqwt_energy_dec_36', 'app_det_TKEO_mean_4_coef', 'app_entropy_shannon_9_coef', 'det_LT_entropy_log_9_coef', 'app_LT_entropy_log_5_coef', 'tqwt_entropy_log_dec_2', 'tqwt_entropy_log_dec_5', 'det_LT_TKEO_mean_4_coef', 'app_LT_TKEO_std_5_coef', 'tqwt_TKEO_mean_dec_22', 'tqwt_maxValue_dec_12', 'tqwt_entropy_log_dec_19', 'tqwt_TKEO_std_dec_24', 'tqwt_entropy_shannon_dec_21', 'tqwt_minValue_dec_20', 'tqwt_minValue_dec_8', 'det_TKEO_std_8_coef', 'tqwt_minValue_dec_34', 'std_9th_delta', 'det_TKEO_mean_10_coef', 'tqwt_stdValue_dec_22', 'tqwt_kurtosisValue_dec_36', 'Ed_4_coef', 'VFER_entropy', 'tqwt_entropy_log_dec_18', 'tqwt_minValue_dec_2', 'det_LT_TKEO_std_4_coef', 'tqwt_maxValue_dec_1', 'tqwt_energy_dec_6', 'tqwt_stdValue_dec_33', 'tqwt_entropy_log_dec_14', 'det_LT_entropy_shannon_6_coef', 'app_entropy_shannon_8_coef', 'Ed2_5_coef', 'app_LT_entropy_shannon_9_coef', 'det_TKEO_mean_9_coef', 'app_LT_entropy_log_8_coef', 'app_LT_entropy_log_9_coef', 'tqwt_TKEO_mean_dec_33', 'app_det_TKEO_mean_9_coef', 'tqwt_stdValue_dec_25', 'tqwt_minValue_dec_28', 'tqwt_kurtosisValue_dec_3', 'tqwt_entropy_shannon_dec_5', 'app_LT_TKEO_mean_8_coef', 'tqwt_TKEO_mean_dec_34', 'tqwt_maxValue_dec_11', 'apq5Shimmer', 'tqwt_stdValue_dec_19', 'tqwt_minValue_dec_32', 'app_LT_TKEO_std_8_coef', 'tqwt_kurtosisValue_dec_32', 'GQ_std_cycle_closed', 'tqwt_stdValue_dec_27', 'tqwt_stdValue_dec_1', 'tqwt_entropy_log_dec_4', 'tqwt_meanValue_dec_33', 'std_6th_delta', 'tqwt_energy_dec_15', 'tqwt_stdValue_dec_12', 'tqwt_maxValue_dec_29', 'tqwt_minValue_dec_16', 'det_LT_TKEO_std_2_coef', 'tqwt_TKEO_std_dec_7', 'det_LT_entropy_log_3_coef', 'tqwt_energy_dec_4', 'det_LT_TKEO_mean_6_coef', 'tqwt_entropy_log_dec_22', 'tqwt_TKEO_mean_dec_25', 'std_1st_delta_delta', 'tqwt_stdValue_dec_23', 'det_entropy_log_3_coef', 'app_LT_entropy_log_3_coef', 'app_entropy_log_8_coef', 'tqwt_entropy_log_dec_34', 'tqwt_entropy_log_dec_12', 'det_LT_TKEO_std_7_coef', 'app_LT_entropy_shannon_2_coef', 'tqwt_entropy_log_dec_7', 'app_entropy_log_3_coef', 'tqwt_entropy_shannon_dec_29', 'det_LT_TKEO_std_9_coef', 'det_TKEO_mean_4_coef', 'det_entropy_log_7_coef', 'tqwt_minValue_dec_4', 'tqwt_TKEO_std_dec_30', 'tqwt_TKEO_mean_dec_35', 'GNE_NSR_TKEO', 'tqwt_entropy_log_dec_28', 'locAbsJitter', 'det_entropy_log_2_coef', 'std_6th_delta_delta', 'app_det_TKEO_mean_7_coef', 'tqwt_minValue_dec_25', 'tqwt_minValue_dec_10', 'tqwt_maxValue_dec_4', 'tqwt_entropy_shannon_dec_17', 'tqwt_stdValue_dec_9', 'app_LT_TKEO_mean_2_coef', 'app_LT_entropy_log_2_coef', 'tqwt_meanValue_dec_36', 'tqwt_TKEO_std_dec_11', 'tqwt_maxValue_dec_25', 'tqwt_entropy_log_dec_9', 'tqwt_entropy_shannon_dec_33', 'tqwt_maxValue_dec_7', 'app_entropy_log_5_coef', 'std_3rd_delta_delta', 'tqwt_entropy_shannon_dec_4', 'tqwt_entropy_shannon_dec_12', 'det_TKEO_mean_7_coef', 'meanIntensity', 'tqwt_minValue_dec_14', 'tqwt_skewnessValue_dec_35', 'tqwt_TKEO_std_dec_16', 'std_5th_delta', 'det_LT_TKEO_mean_3_coef', 'det_entropy_shannon_8_coef', 'app_LT_TKEO_std_10_coef', 'app_entropy_shannon_10_coef', 'tqwt_TKEO_std_dec_29', 'tqwt_maxValue_dec_28', 'tqwt_maxValue_dec_35', 'app_TKEO_std_7_coef', 'tqwt_minValue_dec_13', 'det_LT_TKEO_mean_7_coef', 'app_LT_TKEO_std_3_coef', 'app_LT_entropy_log_4_coef', 'tqwt_TKEO_mean_dec_3', 'tqwt_stdValue_dec_20', 'meanNoiseToHarmHarmonicity', 'tqwt_entropy_log_dec_6', 'tqwt_maxValue_dec_26', 'det_LT_entropy_log_6_coef', 'tqwt_kurtosisValue_dec_17', 'tqwt_entropy_shannon_dec_10', 'tqwt_TKEO_std_dec_21', 'tqwt_TKEO_std_dec_23', 'det_TKEO_std_2_coef', 'tqwt_maxValue_dec_8', 'tqwt_TKEO_mean_dec_10', 'std_delta_delta_0th', 'tqwt_stdValue_dec_13', 'tqwt_TKEO_mean_dec_17', 'ddaShimmer', 'tqwt_TKEO_mean_dec_6', 'app_LT_entropy_shannon_6_coef', 'std_10th_delta', 'tqwt_maxValue_dec_14', 'tqwt_TKEO_std_dec_8', 'tqwt_stdValue_dec_18', 'tqwt_kurtosisValue_dec_20', 'det_TKEO_std_5_coef', 'app_LT_TKEO_mean_4_coef', 'tqwt_maxValue_dec_9', 'Ed_2_coef', 'det_entropy_log_6_coef', 'tqwt_stdValue_dec_16', 'app_LT_entropy_shannon_7_coef', 'tqwt_kurtosisValue_dec_5', 'ppq5Jitter', 'app_TKEO_std_8_coef', 'tqwt_TKEO_mean_dec_1', 'Ed2_6_coef', 'tqwt_TKEO_mean_dec_11', 'std_4th_delta', 'Ed2_1_coef', 'det_LT_entropy_log_4_coef', 'tqwt_energy_dec_10', 'tqwt_entropy_log_dec_24', 'tqwt_kurtosisValue_dec_2', 'tqwt_kurtosisValue_dec_4', 'tqwt_entropy_log_dec_26', 'tqwt_maxValue_dec_33', 'tqwt_entropy_shannon_dec_8', 'Ed2_2_coef', 'tqwt_skewnessValue_dec_34', 'det_LT_entropy_log_1_coef', 'tqwt_TKEO_std_dec_10', 'tqwt_stdValue_dec_10', 'tqwt_skewnessValue_dec_31', 'tqwt_entropy_shannon_dec_2', 'app_TKEO_std_3_coef', 'std_11th_delta', 'tqwt_TKEO_std_dec_18', 'app_LT_entropy_shannon_1_coef', 'tqwt_minValue_dec_9', 'tqwt_energy_dec_8', 'tqwt_entropy_log_dec_3', 'std_MFCC_5th_coef', 'det_TKEO_std_9_coef', 'tqwt_maxValue_dec_27', 'tqwt_TKEO_mean_dec_29', 'tqwt_stdValue_dec_7', 'tqwt_stdValue_dec_17', 'det_TKEO_mean_8_coef', 'tqwt_TKEO_mean_dec_32', 'tqwt_kurtosisValue_dec_31', 'Ed_8_coef', 'tqwt_stdValue_dec_36', 'apq11Shimmer', 'std_8th_delta', 'tqwt_minValue_dec_26', 'tqwt_TKEO_std_dec_35', 'det_entropy_shannon_1_coef', 'app_entropy_log_4_coef', 'tqwt_stdValue_dec_2', 'det_TKEO_std_7_coef', 'det_TKEO_mean_1_coef', 'tqwt_entropy_log_dec_16', 'tqwt_stdValue_dec_21', 'std_3rd_delta', 'tqwt_stdValue_dec_4', 'det_TKEO_std_4_coef', 'det_LT_TKEO_std_10_coef', 'tqwt_TKEO_std_dec_13', 'app_LT_entropy_log_6_coef', 'Ed_3_coef', 'locDbShimmer', 'app_LT_TKEO_std_4_coef', 'tqwt_minValue_dec_36', 'std_8th_delta_delta', 'tqwt_energy_dec_32', 'tqwt_skewnessValue_dec_4', 'det_entropy_shannon_10_coef', 'tqwt_minValue_dec_6', 'meanPeriodPulses', 'std_delta_delta_log_energy', 'std_12th_delta_delta', 'det_LT_entropy_log_8_coef', 'tqwt_maxValue_dec_15', 'tqwt_stdValue_dec_3', 'det_LT_entropy_shannon_3_coef', 'det_TKEO_mean_6_coef', 'numPeriodsPulses', 'std_1st_delta', 'tqwt_maxValue_dec_34', 'VFER_NSR_SEO'}\n",
      "New shape: (756, 285)\n"
     ]
    }
   ],
   "source": [
    "# calculates the correlation between features and drops highly correlated features\n",
    "# df[col].corr(df[col1]): Computes the Pearson correlation coefficient between two numerical features.\n",
    "# If correlation > 0.7: The feature is considered highly correlated and is removed from the dataset to reduce redundancy.\n",
    "\n",
    "columns = list(df.columns)\n",
    "columns.remove('class')     # Exclude target variable from correlation checks\n",
    "\n",
    "to_drop = set()\n",
    "\n",
    "for i, col in enumerate(columns):\n",
    "    if col in to_drop:\n",
    "        continue\n",
    "    for col1 in columns[i+1:]:\n",
    "        if col1 in to_drop:\n",
    "            continue\n",
    "        val = df[col].corr(df[col1])\n",
    "        if abs(val) > 0.7:   # drop if highly correlated\n",
    "            to_drop.add(col1)\n",
    "\n",
    "# Drop after the loop\n",
    "df = df.drop(columns=list(to_drop))\n",
    "print(\"Dropped:\", to_drop)\n",
    "print(\"New shape:\", df.shape)\n"
   ]
  },
  {
   "cell_type": "markdown",
   "id": "f3cd73f4",
   "metadata": {},
   "source": [
    "Now we can see that the dataset contained 755 features but after removing highly correlated ones the feature space was *reduced to 287 columns.* However this is still significantly high as the number of features exceeds the number of data points (252 examples)."
   ]
  },
  {
   "cell_type": "markdown",
   "id": "b6335a49",
   "metadata": {},
   "source": [
    "To improve model performance and reduce computational complexity we apply feature selection using the **chi-square test** to retain only the most relevant features.\n",
    "\n",
    " a Chi-Square test is done on two distributions to determine the level of similarity of their respective variances. In its null hypothesis, it assumes that the given distributions are independent. This test thus can be used to determine the best features for a given dataset by determining the features on which the output class label is most dependent."
   ]
  },
  {
   "cell_type": "code",
   "execution_count": 7,
   "id": "9fb99c43",
   "metadata": {},
   "outputs": [
    {
     "data": {
      "text/plain": [
       "(756, 31)"
      ]
     },
     "execution_count": 7,
     "metadata": {},
     "output_type": "execute_result"
    }
   ],
   "source": [
    "X = df.drop('class', axis=1)\n",
    "\n",
    "# Normalize the features to a range of [0, 1] \n",
    "# to ensure that all features contribute equally to the distance calculations in the chi-square test.\n",
    "X_norm = MinMaxScaler().fit_transform(X) \n",
    "\n",
    "# Apply the chi-square test to select the top 30 features \n",
    "# based on their statistical significance with respect to the target variable 'class'.\n",
    "selector = SelectKBest(chi2, k=30)\n",
    "selector.fit(X_norm, df['class'])\n",
    "\n",
    "#  Identifies the selected features and filters the original DataFrame to keep only those features.\n",
    "filtered_columns = selector.get_support()\n",
    "filtered_data = X.loc[:, filtered_columns]\n",
    "\n",
    "# Add the target variable 'class' back to the filtered DataFrame\n",
    "filtered_data['class'] = df['class']\n",
    "df = filtered_data\n",
    "df.shape"
   ]
  },
  {
   "cell_type": "markdown",
   "id": "5e2d77ec",
   "metadata": {},
   "source": [
    "Therefore we reduce the dimensionality of our dataset by 30 since 1 is \"class\" column, while preserving the most important features making our dataset more efficient for model training."
   ]
  },
  {
   "cell_type": "markdown",
   "id": "43e0eb28",
   "metadata": {},
   "source": [
    "4. Handling Class Imbalance and Splitting Data"
   ]
  },
  {
   "cell_type": "markdown",
   "id": "19a60b1a",
   "metadata": {},
   "source": [
    "To understand the distribution of target classes in our dataset, we use a pie chart. This helps us check for class imbalances, which can impact model performance."
   ]
  },
  {
   "cell_type": "code",
   "execution_count": 8,
   "id": "d3b43c0f",
   "metadata": {},
   "outputs": [
    {
     "name": "stdout",
     "output_type": "stream",
     "text": [
      "class\n",
      "1    564\n",
      "0    192\n",
      "Name: count, dtype: int64\n"
     ]
    },
    {
     "data": {
      "image/png": "[encoded data removed]",
      "text/plain": [
       "<Figure size 800x500 with 1 Axes>"
      ]
     },
     "metadata": {},
     "output_type": "display_data"
    }
   ],
   "source": [
    "cnt = df['class'].value_counts()\n",
    "print(cnt)\n",
    "plt.figure(figsize=(8, 5))\n",
    "plt.pie(cnt, labels=cnt.index, autopct='%.1f%%')\n",
    "plt.show()"
   ]
  },
  {
   "cell_type": "markdown",
   "id": "72e2181a",
   "metadata": {},
   "source": [
    "To build a robust machine learning model we need to address this class imbalance and properly split the dataset into training and validation sets. If the dataset is imbalanced the model may become biased toward the majority class making it difficult to correctly predict the minority class."
   ]
  },
  {
   "cell_type": "code",
   "execution_count": 9,
   "id": "c384f51a",
   "metadata": {},
   "outputs": [
    {
     "name": "stdout",
     "output_type": "stream",
     "text": [
      "Original training set size: 604\n",
      "Resampled training set size: 902\n"
     ]
    },
    {
     "data": {
      "text/plain": [
       "class\n",
       "1    451\n",
       "0    451\n",
       "Name: count, dtype: int64"
      ]
     },
     "execution_count": 9,
     "metadata": {},
     "output_type": "execute_result"
    }
   ],
   "source": [
    "features= df.drop('class', axis=1)\n",
    "target = df['class']\n",
    "\n",
    "# Split the dataset into training and testing sets\n",
    "X_train, X_test, y_train, y_test = train_test_split(features, target, stratify=target, test_size=0.2, random_state=42)\n",
    "\n",
    "# Handle class imbalance using RandomOverSampler which randomly oversamples the minority class\n",
    "# this helps to balance the class distribution in the training set and make minority equal to majority\n",
    "ros= RandomOverSampler(random_state=42)\n",
    "X_train_resampled, y_train_resampled = ros.fit_resample(X_train, y_train)\n",
    "\n",
    "print(f\"Original training set size: {len(y_train)}\")\n",
    "print(f\"Resampled training set size: {len(y_train_resampled)}\")\n",
    "\n",
    "y_train_resampled.value_counts()\n"
   ]
  },
  {
   "cell_type": "markdown",
   "id": "820589b4",
   "metadata": {},
   "source": [
    "By performing oversampling we created a balanced dataset preventing model bias toward the majority class making it more accurate on unseen data ."
   ]
  },
  {
   "cell_type": "markdown",
   "id": "24803d50",
   "metadata": {},
   "source": [
    "5. Model Training and Evaluation"
   ]
  },
  {
   "cell_type": "code",
   "execution_count": 10,
   "id": "c2a31837",
   "metadata": {},
   "outputs": [
    {
     "name": "stdout",
     "output_type": "stream",
     "text": [
      "Logistic Regression \n",
      " ROC AUC Score: 0.7054685727252099\n",
      "XGBClassifier \n",
      " ROC AUC Score: 0.7767188563648741\n",
      "SVC \n",
      " ROC AUC Score: 0.6161788064442932\n"
     ]
    }
   ],
   "source": [
    "models = {\n",
    "        'Logistic Regression': LogisticRegression(),\n",
    "        'XGBClassifier': XGBClassifier(),\n",
    "        'SVC': SVC(kernel='rbf',probability=True)\n",
    "        }  \n",
    "for name, model in models.items():\n",
    "        model.fit(X_train_resampled, y_train_resampled)\n",
    "        y_pred = model.predict(X_test)    \n",
    "        print(f\"{name} \\n ROC AUC Score: {ras(y_test, y_pred)}\")"
   ]
  },
  {
   "cell_type": "markdown",
   "id": "e80c8c06",
   "metadata": {},
   "source": [
    "from the above, we conclude that XGBClassifier is most model preformed well "
   ]
  },
  {
   "cell_type": "markdown",
   "id": "dd313856",
   "metadata": {},
   "source": [
    "6. Analyzing Model Performance"
   ]
  },
  {
   "cell_type": "code",
   "execution_count": 11,
   "id": "3851cb32",
   "metadata": {},
   "outputs": [
    {
     "data": {
      "image/png": "[encoded data removed]",
      "text/plain": [
       "<Figure size 640x480 with 2 Axes>"
      ]
     },
     "metadata": {},
     "output_type": "display_data"
    },
    {
     "name": "stdout",
     "output_type": "stream",
     "text": [
      "              precision    recall  f1-score   support\n",
      "\n",
      "           0       0.77      0.62      0.69        39\n",
      "           1       0.88      0.94      0.91       113\n",
      "\n",
      "    accuracy                           0.86       152\n",
      "   macro avg       0.83      0.78      0.80       152\n",
      "weighted avg       0.85      0.86      0.85       152\n",
      "\n"
     ]
    }
   ],
   "source": [
    "# fit using the best model\n",
    "classifier = XGBClassifier()\n",
    "classifier.fit(X_train_resampled, y_train_resampled)\n",
    "y_pred = classifier.predict(X_test)\n",
    "\n",
    "\n",
    "# preform confusion matrix and classification report for the best model\n",
    "cm = confusion_matrix(y_test, y_pred)\n",
    "disp= ConfusionMatrixDisplay(confusion_matrix=cm)\n",
    "disp.plot()\n",
    "plt.show()\n",
    "\n",
    "print(classification_report(y_test, y_pred))\n"
   ]
  },
  {
   "cell_type": "markdown",
   "id": "7eb5ff14",
   "metadata": {},
   "source": [
    "- The model really favors class 1 (high precision & recall).\n",
    "\n",
    "- Class 0 is good but weaker, recall 0.62 means it’s still missing ~38% of them.\n",
    "\n",
    "- Since you have fewer samples in class 0 (39 vs. 113), that imbalance still hurts recall."
   ]
  }
 ],
 "metadata": {
  "kernelspec": {
   "display_name": "base",
   "language": "python",
   "name": "python3"
  },
  "language_info": {
   "codemirror_mode": {
    "name": "ipython",
    "version": 3
   },
   "file_extension": ".py",
   "mimetype": "text/x-python",
   "name": "python",
   "nbconvert_exporter": "python",
   "pygments_lexer": "ipython3",
   "version": "3.12.7"
  }
 },
 "nbformat": 4,
 "nbformat_minor": 5
}
